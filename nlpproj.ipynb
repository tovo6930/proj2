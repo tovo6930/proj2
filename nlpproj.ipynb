{
 "cells": [
  {
   "cell_type": "markdown",
   "metadata": {},
   "source": [
    "# NLP Tweets Kaggle Mini-Project "
   ]
  },
  {
   "cell_type": "markdown",
   "metadata": {},
   "source": [
    "####Links\n",
    "The data for this project comes from https://www.kaggle.com/competitions/nlp-getting-started/data.\n",
    "\n",
    "This notebook can be found on github at https://github.com/tovo6930/proj2\n"
   ]
  },
  {
   "cell_type": "markdown",
   "metadata": {},
   "source": [
    "To prepare the data, we will follow these steps:\n",
    "\n",
    "1. Retrieve the data from the source by downloading it.\n",
    "\n",
    "2. Extract the compressed files to the local disk.\n",
    "\n",
    "3. The data consists of three CSV files: one contains the training data, another contains the testing data, and the third is a sample file.\n",
    "\n",
    "4. We will utilize the training data to train the model and subsequently make estimations using the testing data."
   ]
  },
  {
   "cell_type": "code",
   "execution_count": 143,
   "metadata": {
    "id": "nvbPWI6RmAtO"
   },
   "outputs": [],
   "source": [
    "# import required libraries\n",
    "import pathlib\n",
    "import os\n",
    "import sys\n",
    "import concurrent.futures\n",
    "\n",
    "import pandas as pd\n",
    "\n",
    "import numpy as np\n",
    "import random as rn\n",
    "\n",
    "import tensorflow as tf\n",
    "import tensorflow_datasets as tfds\n",
    "\n",
    "import matplotlib.pyplot as plt\n",
    "%matplotlib inline\n",
    "\n",
    "from timeit import default_timer as timer\n",
    "import re\n",
    "import shutil\n",
    "import string"
   ]
  },
  {
   "cell_type": "code",
   "execution_count": 144,
   "metadata": {},
   "outputs": [],
   "source": [
    "class Constants:\n",
    "    QUICK_TEST = False\n",
    "    MAX_FILES = sys.maxsize\n",
    "    TARGET_SIZE = [96,96]\n",
    "    BATCH_SIZE = 32\n",
    "    RETRAIN_MODEL = False\n",
    "    MAX_FEATURES = 1000\n",
    "    SEQUENCE_LEN = 10\n",
    "    \n",
    "class Config():\n",
    "    def __init__(self):\n",
    "        self.dataset_url = \"https://www.kaggle.com/competitions/histopathologic-cancer-detection/data\"\n",
    "        self.data_root_dir =  \"/kaggle/input/mayo-clinic-strip-ai/\"\n",
    "        self.working_dir = \"/kaggle/working/\"\n",
    "        self.temp_dir = \"/kaggle/working/temp/\"\n",
    "\n",
    "        if os.path.exists(\"/kaggle\"):\n",
    "            print(\"Working in kaggle notebook enviorment\")\n",
    "        else:\n",
    "            print(\"Working locally\")\n",
    "            self.data_root_dir =  \"./nlp-getting-started/\"\n",
    "            self.working_dir = self.data_root_dir\n",
    "            self.temp_dir = './nlp-getting-started/'\n",
    "\n",
    "        self.temp_train_dir = self.temp_dir + \"train/\"\n",
    "        self.temp_test_dir = self.temp_dir + \"test/\"\n",
    "        \n",
    "        self.data_dir = self.data_root_dir\n",
    "\n",
    "        self.train_csv =  self.data_dir + \"train.csv\"\n",
    "        self.test_csv = self.data_dir + \"test.csv\"\n",
    "\n",
    "        self.origin_train_dir = \"././nlp-getting-started/train/\"\n",
    "        self.origin_test_dir = \"././nlp-getting-started/test/\"\n",
    "\n",
    "        self.train_dir = self.temp_train_dir #self.data_dir + \"train/\"\n",
    "        self.test_dir = self.temp_test_dir #self.data_dir + \"test/\"\n",
    "\n",
    "        self.dir_true = self.train_dir + \"1/\"\n",
    "        self.dir_false = self.train_dir + \"0/\"\n",
    "\n",
    "        self.origin_train_path = pathlib.Path(self.origin_train_dir).with_suffix('')\n",
    "        self.origin_test_path = pathlib.Path(self.origin_test_dir).with_suffix('')\n",
    "\n",
    "        self.train_path = pathlib.Path(self.train_dir).with_suffix('')\n",
    "        self.test_path = pathlib.Path(self.test_dir).with_suffix('')\n",
    "    #Convert the image from tif to jpg\n",
    "    #Move train data to subclass directory\n",
    "    def new_dir(directory):\n",
    "        cmd = \"mkdir \" + directory\n",
    "        os.system(cmd)\n",
    "\n",
    "    def download_data(self):\n",
    "        if not os.path.exists(self.data_dir):\n",
    "            cmd = \"pip install opendatasets\"\n",
    "            os.system(cmd)\n",
    "            import opendatasets as od\n",
    "            od.download(self.dataset_url)\n",
    "            \n",
    "            new_dir(data_dir)\n",
    "            new_dir(train_dir)\n",
    "            new_dir(test_dir)\n",
    "            new_dir(dir_true)\n",
    "            new_dir(dir_false)\n",
    "        "
   ]
  },
  {
   "cell_type": "markdown",
   "metadata": {},
   "source": [
    "Download data, create pandas dataframe from the csv files."
   ]
  },
  {
   "cell_type": "code",
   "execution_count": 145,
   "metadata": {},
   "outputs": [],
   "source": [
    "class Df():\n",
    "    def __init__(self, \n",
    "                 cfg:Config\n",
    "                ):\n",
    "        self.train_df = pd.read_csv(cfg.train_csv)\n",
    "        self.test_df = None if cfg.test_csv == None else pd.read_csv(cfg.test_csv)\n",
    "\n",
    "    def combine_train_set(self):\n",
    "        pass\n",
    "    def glance_at(self, df):\n",
    "        print(\"\\nQuick view of {} data set\".format(df))\n",
    "        if df == 'train':\n",
    "            print(self.train_df)\n",
    "            self.train_df.info()\n",
    "            print('Target values:')\n",
    "            \n",
    "            vc = self.train_df['target'].value_counts()     \n",
    "            print(vc)\n",
    "            labels = ['Fake', 'Real']\n",
    "            plt.pie(vc,autopct='%1.1f%%',labels=labels)\n",
    "            plt.legend(vc.index, loc='best')\n",
    "            plt.show()\n",
    "        elif df == 'test' and self.test_df is not None:\n",
    "            print(self.test_df)\n",
    "            self.test_df.info()\n",
    "        else:\n",
    "            pass\n",
    "            \n",
    "    def glance(self):\n",
    "        self.glance_at('train')\n",
    "        self.glance_at('test')"
   ]
  },
  {
   "cell_type": "code",
   "execution_count": 146,
   "metadata": {},
   "outputs": [
    {
     "name": "stdout",
     "output_type": "stream",
     "text": [
      "Working locally\n"
     ]
    }
   ],
   "source": [
    "config = Config()\n",
    "config.download_data()"
   ]
  },
  {
   "cell_type": "code",
   "execution_count": 147,
   "metadata": {},
   "outputs": [],
   "source": [
    "df = Df(config)"
   ]
  },
  {
   "cell_type": "markdown",
   "metadata": {},
   "source": [
    "## Exploratory Data Analysis (EDA)\n",
    "\n",
    "To begin with, let's take a look at the training data. It comprises 7613 observations and 5 features. However, it is worth noting that the majority of observations in the 'keywords' and 'location' features are missing. Therefore, these two features will not be considered during the training process. Additionally, the 'id' field serves as an index and is not required for training purposes. The 'text' feature serves as the input data, while the 'target' field represents the output data.\n",
    "\n",
    "Upon examining the values in the 'target' feature, we find that it contains two unique values: 0, which indicates a false alert, and 1, which indicates a true alert. Moving on to the testing data, it consists of 3263 rows. According to the statistical information, approximately 57% of the training data corresponds to false alerts, while the remaining 43% corresponds to true alerts."
   ]
  },
  {
   "cell_type": "code",
   "execution_count": 148,
   "metadata": {},
   "outputs": [
    {
     "name": "stdout",
     "output_type": "stream",
     "text": [
      "\n",
      "Quick view of train data set\n",
      "         id keyword location  \\\n",
      "0         1     NaN      NaN   \n",
      "1         4     NaN      NaN   \n",
      "2         5     NaN      NaN   \n",
      "3         6     NaN      NaN   \n",
      "4         7     NaN      NaN   \n",
      "...     ...     ...      ...   \n",
      "7608  10869     NaN      NaN   \n",
      "7609  10870     NaN      NaN   \n",
      "7610  10871     NaN      NaN   \n",
      "7611  10872     NaN      NaN   \n",
      "7612  10873     NaN      NaN   \n",
      "\n",
      "                                                   text  target  \n",
      "0     Our Deeds are the Reason of this #earthquake M...       1  \n",
      "1                Forest fire near La Ronge Sask. Canada       1  \n",
      "2     All residents asked to 'shelter in place' are ...       1  \n",
      "3     13,000 people receive #wildfires evacuation or...       1  \n",
      "4     Just got sent this photo from Ruby #Alaska as ...       1  \n",
      "...                                                 ...     ...  \n",
      "7608  Two giant cranes holding a bridge collapse int...       1  \n",
      "7609  @aria_ahrary @TheTawniest The out of control w...       1  \n",
      "7610  M1.94 [01:04 UTC]?5km S of Volcano Hawaii. htt...       1  \n",
      "7611  Police investigating after an e-bike collided ...       1  \n",
      "7612  The Latest: More Homes Razed by Northern Calif...       1  \n",
      "\n",
      "[7613 rows x 5 columns]\n",
      "<class 'pandas.core.frame.DataFrame'>\n",
      "RangeIndex: 7613 entries, 0 to 7612\n",
      "Data columns (total 5 columns):\n",
      " #   Column    Non-Null Count  Dtype \n",
      "---  ------    --------------  ----- \n",
      " 0   id        7613 non-null   int64 \n",
      " 1   keyword   7552 non-null   object\n",
      " 2   location  5080 non-null   object\n",
      " 3   text      7613 non-null   object\n",
      " 4   target    7613 non-null   int64 \n",
      "dtypes: int64(2), object(3)\n",
      "memory usage: 297.5+ KB\n",
      "Target values:\n",
      "0    4342\n",
      "1    3271\n",
      "Name: target, dtype: int64\n"
     ]
    },
    {
     "data": {
      "image/png": "[encoded data removed]",
      "text/plain": [
       "<Figure size 640x480 with 1 Axes>"
      ]
     },
     "metadata": {},
     "output_type": "display_data"
    }
   ],
   "source": [
    "df.glance_at('train')"
   ]
  },
  {
   "cell_type": "code",
   "execution_count": 149,
   "metadata": {},
   "outputs": [
    {
     "data": {
      "text/plain": [
       "'Twelve feared killed in Pakistani air ambulance helicopter crash http://t.co/X2Qsjod40u #worldnews'"
      ]
     },
     "execution_count": 149,
     "metadata": {},
     "output_type": "execute_result"
    }
   ],
   "source": [
    "df.train_df[df.train_df['target']==1]['text'].values[100]"
   ]
  },
  {
   "cell_type": "code",
   "execution_count": 150,
   "metadata": {},
   "outputs": [
    {
     "data": {
      "text/plain": [
       "\"@Kiwi_Karyn Check out what's in my parking lot!! He said that until last year it was an ambulance in St Johns. http://t.co/hPvOdUD7iP\""
      ]
     },
     "execution_count": 150,
     "metadata": {},
     "output_type": "execute_result"
    }
   ],
   "source": [
    "df.train_df[df.train_df['target']!=1]['text'].values[100]"
   ]
  },
  {
   "cell_type": "code",
   "execution_count": 151,
   "metadata": {},
   "outputs": [
    {
     "name": "stdout",
     "output_type": "stream",
     "text": [
      "\n",
      "Quick view of test data set\n",
      "         id keyword location  \\\n",
      "0         0     NaN      NaN   \n",
      "1         2     NaN      NaN   \n",
      "2         3     NaN      NaN   \n",
      "3         9     NaN      NaN   \n",
      "4        11     NaN      NaN   \n",
      "...     ...     ...      ...   \n",
      "3258  10861     NaN      NaN   \n",
      "3259  10865     NaN      NaN   \n",
      "3260  10868     NaN      NaN   \n",
      "3261  10874     NaN      NaN   \n",
      "3262  10875     NaN      NaN   \n",
      "\n",
      "                                                   text  \n",
      "0                    Just happened a terrible car crash  \n",
      "1     Heard about #earthquake is different cities, s...  \n",
      "2     there is a forest fire at spot pond, geese are...  \n",
      "3              Apocalypse lighting. #Spokane #wildfires  \n",
      "4         Typhoon Soudelor kills 28 in China and Taiwan  \n",
      "...                                                 ...  \n",
      "3258  EARTHQUAKE SAFETY LOS ANGELES ÛÒ SAFETY FASTE...  \n",
      "3259  Storm in RI worse than last hurricane. My city...  \n",
      "3260  Green Line derailment in Chicago http://t.co/U...  \n",
      "3261  MEG issues Hazardous Weather Outlook (HWO) htt...  \n",
      "3262  #CityofCalgary has activated its Municipal Eme...  \n",
      "\n",
      "[3263 rows x 4 columns]\n",
      "<class 'pandas.core.frame.DataFrame'>\n",
      "RangeIndex: 3263 entries, 0 to 3262\n",
      "Data columns (total 4 columns):\n",
      " #   Column    Non-Null Count  Dtype \n",
      "---  ------    --------------  ----- \n",
      " 0   id        3263 non-null   int64 \n",
      " 1   keyword   3237 non-null   object\n",
      " 2   location  2158 non-null   object\n",
      " 3   text      3263 non-null   object\n",
      "dtypes: int64(1), object(3)\n",
      "memory usage: 102.1+ KB\n"
     ]
    }
   ],
   "source": [
    "df.glance_at('test')"
   ]
  },
  {
   "cell_type": "markdown",
   "metadata": {},
   "source": [
    "The tensorflow dataset API text_dataset_from_directory requires the training data to be organized in a hierarchical structure with the sundir name being the name of the category. To follow the requirement of the API, the 'text' field in the dataframe are copied to txt file respectively."
   ]
  },
  {
   "cell_type": "markdown",
   "metadata": {},
   "source": [
    "Cross check the raw data with the files in the traning directory. The data matches with the csv file."
   ]
  },
  {
   "cell_type": "code",
   "execution_count": 152,
   "metadata": {},
   "outputs": [
    {
     "data": {
      "text/plain": [
       "[PosixPath('nlp-getting-started/train/.DS_Store'),\n",
       " PosixPath('nlp-getting-started/train/0'),\n",
       " PosixPath('nlp-getting-started/train/1')]"
      ]
     },
     "execution_count": 152,
     "metadata": {},
     "output_type": "execute_result"
    }
   ],
   "source": [
    "list(config.train_path.iterdir())"
   ]
  },
  {
   "cell_type": "code",
   "execution_count": 154,
   "metadata": {},
   "outputs": [],
   "source": [
    "def check_create_dir(path):\n",
    "    if not os.path.exists(path):\n",
    "        os.makedirs(path)\n",
    "    else:\n",
    "        pass\n",
    "   \n",
    "\n",
    "class TextRawDataInDisk:\n",
    "    def __init__(self, \n",
    "                 df, \n",
    "                 to_path,\n",
    "                 quick_test = Constants.QUICK_TEST):\n",
    "        self.df = df # List of df\n",
    "        self.to_path = to_path\n",
    "        self.max_files = min(len(df), Constants.MAX_FILES)\n",
    "        self.quick_test = quick_test\n",
    "        if (quick_test):\n",
    "            self.max_files = min(4, len(df))\n",
    "        self.loaded_files = 0\n",
    "        self.skipped_files = 0\n",
    "        self.is_training = 'target' in df.columns\n",
    "        \n",
    "class TextLoaderToDisk:    \n",
    "    def build(df, \n",
    "             to_path,\n",
    "             quick_test = Constants.QUICK_TEST):\n",
    "        \n",
    "        owner = TextRawDataInDisk(df, \n",
    "                 to_path,\n",
    "                 quick_test)\n",
    "        check_create_dir(to_path)\n",
    "        loader = TextLoaderToDisk(owner)\n",
    "        loader.load()\n",
    "        return loader\n",
    "    \n",
    "    def __init__(self, owner = None):\n",
    "        self._owner = owner\n",
    "        \n",
    "    def reset_owner(self, owner):\n",
    "        self._owner = owner\n",
    "        \n",
    "    def owner(self):\n",
    "        return self._owner\n",
    "    \n",
    "    def load(self):       \n",
    "        start = timer()\n",
    "\n",
    "        self.owner().loaded_files = 0\n",
    "        \n",
    "        loop_start = timer()\n",
    "        \n",
    "        to_dir = self.owner().to_path\n",
    "        for row in self.owner().df.itertuples(index = False):\n",
    "            txt = \"/\" + str(row.id) + \".txt\"\n",
    "            \n",
    "            if self.owner().is_training:\n",
    "                label = str(row.target)\n",
    "                to_dir = self.owner().to_path + label + \"/\"\n",
    "            else:\n",
    "                assert(to_dir == self.owner().to_path)              \n",
    "            \n",
    "            \n",
    "            to_file = to_dir + str(row.id) + \".txt\"\n",
    "            if os.path.exists(to_file):\n",
    "                self.owner().skipped_files += 1\n",
    "                self.owner().loaded_files += 1\n",
    "                continue           \n",
    "            check_create_dir(to_dir)    \n",
    "            with open(to_file, 'w') as f:\n",
    "                f.write(row.text)\n",
    "                \n",
    "            self.owner().loaded_files += 1\n",
    "            \n",
    "            if(self.owner().loaded_files % 50 == 0):\n",
    "                print('.', end = ' ')\n",
    "        \n",
    "        elapsed = timer() - start\n",
    "\n",
    "        print(\"{} files are stored to {} in {} seconds, {} are skipped among which.\".format(\n",
    "            self.owner().loaded_files, self.owner().to_path, elapsed, self.owner().skipped_files\n",
    "        ))\n",
    "            \n",
    "    \n",
    "    def statistics(self):\n",
    "        print(\"{} file are stored to {} , {} are skipped among which.\".format(\n",
    "            self.owner().loaded_files, self.owner().to_path,  self.owner().skipped_files\n",
    "        ))\n"
   ]
  },
  {
   "cell_type": "code",
   "execution_count": 155,
   "metadata": {
    "id": "MNyeXEpe63PH"
   },
   "outputs": [],
   "source": [
    "class DatasetFromDisk:\n",
    "    def __init__(self, td, training_ratio = 0.8):\n",
    "        self.ds_from = td.to_path \n",
    "        assert(self.ds_from != None)\n",
    "        self.is_training = td.is_training\n",
    "        self.training_ratio = training_ratio if training_ratio > 0 and  training_ratio <= 1 else 0.8\n",
    "\n",
    "        self.train_ds_ = None\n",
    "        self.val_ds_ = None\n",
    "        self.test_ds_ = None\n",
    "\n",
    "        self.is_preprocessed = False\n",
    "        \n",
    "        \n",
    "class DatasetBuilderFromDisk:\n",
    "    def build(td, training_ratio = 0.8):\n",
    "        owner = DatasetFromDisk(td, training_ratio)\n",
    "        \n",
    "        builder = DatasetBuilderFromDisk(owner)\n",
    "        builder.build_dataset()\n",
    "        return builder\n",
    "    \n",
    "    def __init__(self,owner = None): # MUST set owner before using\n",
    "        self._owner = owner\n",
    "\n",
    "        \n",
    "    def reset_owner(self, owner):\n",
    "        self._owner = owner\n",
    "        \n",
    "    def owner(self):\n",
    "        return self._owner\n",
    "\n",
    "    \n",
    "    def build_dataset(self):\n",
    "        if self.owner().is_training:\n",
    "            self.owner().train_ds_ = tf.keras.utils.text_dataset_from_directory(\n",
    "                self.owner().ds_from,\n",
    "                validation_split=0.2,\n",
    "                subset=\"training\",\n",
    "                seed=123,\n",
    "                batch_size=Constants.BATCH_SIZE\n",
    "            )\n",
    "\n",
    "            self.owner().val_ds_ = tf.keras.utils.text_dataset_from_directory(\n",
    "                self.owner().ds_from,\n",
    "                validation_split=1-self.owner().training_ratio,\n",
    "                subset=\"validation\",\n",
    "                seed=123,\n",
    "                batch_size=Constants.BATCH_SIZE\n",
    "            )\n",
    "        else:\n",
    "            pass\n",
    "        self.pre_process()\n",
    "\n",
    "    def pre_process(self):\n",
    "        return #Don't perform preprocess\n",
    "\n",
    "\n",
    "    def train_ds(self):\n",
    "        return self.owner().train_ds_\n",
    "    \n",
    "    def val_ds(self):\n",
    "        return self.owner().val_ds_    \n",
    "    \n",
    "    def test_ds(self):\n",
    "        return self.owner().test_ds_\n",
    "    \n",
    "    def show_train_texts(self, ds, number):\n",
    "        assert(ds != None and number >= 1)\n",
    "        i = 0\n",
    "        for txts, labels in ds:\n",
    "            #print(imgs)\n",
    "            #print(labels)\n",
    "            for txt in txts:\n",
    "                print(txt)\n",
    "                i += 1\n",
    "                if i >= number:\n",
    "                    return                \n",
    "\n",
    "    def show_test_texts(self, ds, number):\n",
    "        i = 0\n",
    "        for b in ds:\n",
    "            for t in b:\n",
    "                print(t)\n",
    "                i += 1\n",
    "                if i >= number:\n",
    "                    return                \n",
    "            \n",
    "    def show_texts(self):\n",
    "        if self.owner().train_ds_ != None:\n",
    "            self.show_train_texts(self.owner().train_ds_, 3)\n",
    "            assert(self.owner().val_ds_ != None)\n",
    "            self.show_train_texts(self.owner().val_ds_,3)\n",
    "        else:\n",
    "            assert(self.owner().test_ds_ != None)\n",
    "            self.show_test_texts(self.owner().test_ds_, 3)\n",
    "                \n",
    "    def statistics(self):\n",
    "        if self.owner().train_ds_ != None:\n",
    "            for i, target in enumerate(self.owner().train_ds_.class_names):\n",
    "                print(\"Index:\", i, \"corresponds to:\", target)\n",
    "            for text_batch, target_batch in self.owner().train_ds_.take(1):\n",
    "                for i in range(3):\n",
    "                    print(\"Statement: \", text_batch.numpy()[i])\n",
    "                    print(\"Target:\", target_batch.numpy()[i])\n",
    "            for text_batch, target_batch in self.owner().val_ds_.take(1):\n",
    "                for i in range(3):\n",
    "                    print(\"Statement: \", text_batch.numpy()[i])\n",
    "                    print(\"Target:\", target_batch.numpy()[i])\n",
    "        else:\n",
    "            for text_batch in self.owner().test_ds_.take(1):\n",
    "                for i in range(4):\n",
    "                    print(\"Statement: \", text_batch.numpy()[i])\n"
   ]
  },
  {
   "cell_type": "code",
   "execution_count": 156,
   "metadata": {},
   "outputs": [],
   "source": [
    "# Use alias to try different options\n",
    "TextData = TextRawDataInDisk\n",
    "TextLoader = TextLoaderToDisk\n",
    "Dataset = DatasetFromDisk\n",
    "DatasetBuilder = DatasetBuilderFromDisk"
   ]
  },
  {
   "cell_type": "markdown",
   "metadata": {},
   "source": [
    "Generate training and validation dataset with text_dataset_from_directory"
   ]
  },
  {
   "cell_type": "code",
   "execution_count": 157,
   "metadata": {},
   "outputs": [
    {
     "name": "stdout",
     "output_type": "stream",
     "text": [
      "7613 files are stored to ./nlp-getting-started/train/ in 0.07977020799808088 seconds, 7613 are skipped among which.\n"
     ]
    }
   ],
   "source": [
    "train_texts = TextLoader.build(df.train_df, config.temp_train_dir).owner()"
   ]
  },
  {
   "cell_type": "code",
   "execution_count": 158,
   "metadata": {},
   "outputs": [],
   "source": [
    "train_text_loader = TextLoader(train_texts)"
   ]
  },
  {
   "cell_type": "code",
   "execution_count": 159,
   "metadata": {},
   "outputs": [
    {
     "name": "stdout",
     "output_type": "stream",
     "text": [
      "Found 7613 files belonging to 2 classes.\n",
      "Using 6091 files for training.\n",
      "Found 7613 files belonging to 2 classes.\n",
      "Using 1522 files for validation.\n"
     ]
    }
   ],
   "source": [
    "ds = DatasetBuilder.build(train_texts).owner()"
   ]
  },
  {
   "cell_type": "code",
   "execution_count": 160,
   "metadata": {},
   "outputs": [],
   "source": [
    "ds_loader = DatasetBuilder(ds)"
   ]
  },
  {
   "cell_type": "code",
   "execution_count": 161,
   "metadata": {},
   "outputs": [
    {
     "name": "stdout",
     "output_type": "stream",
     "text": [
      "tf.Tensor(b'#NowPlaying: Rene Ablaze &amp; Ian Buff - Magnitude http://t.co/Av2JSjfFtc  #EDM', shape=(), dtype=string)\n",
      "tf.Tensor(b'@aria_ahrary @TheTawniest The out of control wild fires in California even in the Northern part of the state. Very troubling.', shape=(), dtype=string)\n",
      "tf.Tensor(b'Truck fire clogs canyon road http://t.co/JRDwyy0aX4', shape=(), dtype=string)\n",
      "tf.Tensor(b'@MikeParrActor has confirmed on his twitter saying goodbye 2 ross. Am bloody gobsmacked/devastated #emmerdale', shape=(), dtype=string)\n",
      "tf.Tensor(b'BMX issues Areal Flood Advisory for Shelby [AL] till Aug 5 9:00 PM CDT http://t.co/62OddEkVLi', shape=(), dtype=string)\n",
      "tf.Tensor(b'Truck Driver Salvages Banned Tomatoes From Destruction on #Russian Border http://t.co/7b2Wf6ovFK #news', shape=(), dtype=string)\n"
     ]
    }
   ],
   "source": [
    "ds_loader.show_texts()"
   ]
  },
  {
   "cell_type": "markdown",
   "metadata": {},
   "source": [
    "Check the dataset is as expected."
   ]
  },
  {
   "cell_type": "code",
   "execution_count": 162,
   "metadata": {
    "id": "B_uPx0F5Hg_Y"
   },
   "outputs": [
    {
     "name": "stdout",
     "output_type": "stream",
     "text": [
      "Index: 0 corresponds to: 0\n",
      "Index: 1 corresponds to: 1\n",
      "Statement:  b'Traffic Collision - Ambulance Enroute: Elkhorn Blvd at Walerga Rd Sacramento http://t.co/5qHQo6eJtu'\n",
      "Target: 1\n",
      "Statement:  b'@LegacyOfTheSith @SagaciousSaber @Lordofbetrayal Moved in a crescent formation small trails of dust left in their wake as they moved.'\n",
      "Target: 0\n",
      "Statement:  b'The Catastrophic Effects of Hiroshima and Nagasaki Atomic Bombings Still Being Felt Today http://t.co/QVlxpyyyCd'\n",
      "Target: 1\n",
      "Statement:  b'Radioactive Box Quarantined - Israel\\xc2\\x89\\xc3\\x9b\\xc2\\xaas Ashdod Port was evacuated when emergency teams discovered radiation emittin... http://t.co/swQ5lMyDka'\n",
      "Target: 1\n",
      "Statement:  b'@minhazmerchant Govt should pass the bills in the Pandemonium. UPA used to do it why cant NDA?'\n",
      "Target: 0\n",
      "Statement:  b'#Flood in Bago Myanmar #We arrived Bago'\n",
      "Target: 1\n"
     ]
    }
   ],
   "source": [
    "ds_loader.statistics()"
   ]
  },
  {
   "cell_type": "markdown",
   "metadata": {},
   "source": [
    "## Model Architecture \n",
    "\n",
    "The training network's high-level architecture is based on the TensorFlow training material for text classification.\n",
    "\n",
    "The model is composed of the following layers:\n",
    "1. Input layer\n",
    "2. Vectorization layer: This layer is to standardize, tokenize, and vectorize the data. The vectorization layer is from the tf.keras.layers.TextVectorization\n",
    "3. Hidden network layers, including embedding pooling and dense layer for respective model.\n",
    "4. SparseCategoricalCrossentropy is used as loss function\n",
    "5. Optimize with Adam function\n",
    "6. Accuracy as the metric parameter\n",
    "7. Early stop if validation accuracy is not increasing for continuous 3 epochs\n",
    "\n",
    "Two models, int vectorization base and binary vectorization base, are tried. The hyper-parameters are adjusted with multiple running to avoid overfitting and underfitting with reasonable accuracy.\n",
    "\n"
   ]
  },
  {
   "cell_type": "code",
   "execution_count": 163,
   "metadata": {},
   "outputs": [],
   "source": [
    "from tensorflow.keras.optimizers.legacy import Adam\n",
    "class Model:\n",
    "    def __init__(self, ds):\n",
    "        self.ds = ds\n",
    "        self.history = None        \n",
    "        self.opt = Adam()\n",
    "        self.loss = tf.keras.losses.SparseCategoricalCrossentropy(from_logits=True)\n",
    "        self.metrics = ['accuracy']\n",
    "        self.callbacks=[tf.keras.callbacks.EarlyStopping(monitor='val_accuracy', patience=5)]\n",
    "\n",
    "        self.model = self.build_model()\n",
    "        \n",
    "    def fit(self, ds = None, epochs = 10):\n",
    "        if ds == None:\n",
    "            ds = self.ds\n",
    "        self.history = self.model.fit(\n",
    "            ds.train_ds_, \n",
    "            validation_data = ds.val_ds_,\n",
    "            epochs = epochs,\n",
    "            callbacks = self.callbacks\n",
    "        )\n",
    "\n",
    "     \n",
    "    def build_model(self):\n",
    "        import tensorflow.strings as tfs\n",
    "        from tensorflow.strings import regex_replace as rr\n",
    "        \n",
    "        #Prepare the vectorization layer\n",
    "        normalization = lambda s: rr(rr(tfs.lower(s), '<br />', ' '), '[%s]' % re.escape(string.punctuation),'')\n",
    "        extraction = lambda x,y:x\n",
    "        vectorize_layer = tf.keras.layers.TextVectorization(\n",
    "            standardize=normalization,\n",
    "            max_tokens=Constants.MAX_FEATURES,\n",
    "            output_mode='binary') \n",
    "        texts = ds.train_ds_.map(extraction)\n",
    "        vectorize_layer.adapt(texts)\n",
    "        \n",
    "        \n",
    "\n",
    "        model = tf.keras.Sequential([\n",
    "            vectorize_layer,\n",
    "            tf.keras.layers.Dense(len(self.ds.train_ds_.class_names))\n",
    "            ])\n",
    "\n",
    "        model.compile(\n",
    "            loss=self.loss,\n",
    "            optimizer=self.opt,\n",
    "            metrics=['accuracy'])\n",
    "\n",
    "        return model\n"
   ]
  },
  {
   "cell_type": "code",
   "execution_count": 164,
   "metadata": {},
   "outputs": [],
   "source": [
    "class ModelVisualization:\n",
    "    def __init__(self, model: Model):\n",
    "        self.model = model\n",
    "    \n",
    "    def show_history(self):\n",
    "        history = self.model.history.history\n",
    "        fig = plt.figure(figsize=(6,10))\n",
    "        fig_width = 1\n",
    "        fig_height = 2\n",
    "        ax = fig.subplots(fig_height,fig_width)\n",
    "        \n",
    "        ax[0].plot(history['accuracy'],'*-')\n",
    "        ax[0].plot(history['val_accuracy'],\"x-\")\n",
    "        ax[0].legend(['train', 'validation'])\n",
    "        ax[0].set_xlabel(\"epoch\")\n",
    "        ax[0].set_ylabel('accuracy')\n",
    "        ax[0].set_title(\"Accuracies\")\n",
    "        \n",
    "        \n",
    "        ax[1].plot(history['loss'],'*-')\n",
    "        ax[1].plot(history['val_loss'],'x-')\n",
    "        ax[1].legend(['train', 'validation'])\n",
    "        ax[1].set_title(\"Losses\")\n",
    "        ax[1].set_xlabel(\"epoch\")\n",
    "        ax[1].set_ylabel('loss')\n",
    "        plt.show()\n",
    "        \n",
    "\n",
    "    def summary(self):\n",
    "        self.model.model.summary()\n",
    "        self.model.model.get_metrics_result()"
   ]
  },
  {
   "cell_type": "code",
   "execution_count": 165,
   "metadata": {},
   "outputs": [
    {
     "name": "stderr",
     "output_type": "stream",
     "text": [
      "2023-03-04 01:03:24.383829: I tensorflow/core/grappler/optimizers/custom_graph_optimizer_registry.cc:114] Plugin optimizer for device_type GPU is enabled.\n"
     ]
    }
   ],
   "source": [
    "m = Model(ds)"
   ]
  },
  {
   "cell_type": "code",
   "execution_count": 166,
   "metadata": {},
   "outputs": [
    {
     "name": "stdout",
     "output_type": "stream",
     "text": [
      "Epoch 1/100\n"
     ]
    },
    {
     "name": "stderr",
     "output_type": "stream",
     "text": [
      "2023-03-04 01:03:25.864072: I tensorflow/core/grappler/optimizers/custom_graph_optimizer_registry.cc:114] Plugin optimizer for device_type GPU is enabled.\n"
     ]
    },
    {
     "name": "stdout",
     "output_type": "stream",
     "text": [
      "191/191 [==============================] - ETA: 0s - loss: 0.6382 - accuracy: 0.6646"
     ]
    },
    {
     "name": "stderr",
     "output_type": "stream",
     "text": [
      "2023-03-04 01:03:30.906247: I tensorflow/core/grappler/optimizers/custom_graph_optimizer_registry.cc:114] Plugin optimizer for device_type GPU is enabled.\n"
     ]
    },
    {
     "name": "stdout",
     "output_type": "stream",
     "text": [
      "191/191 [==============================] - 7s 31ms/step - loss: 0.6382 - accuracy: 0.6646 - val_loss: 0.5928 - val_accuracy: 0.7536\n",
      "Epoch 2/100\n",
      "191/191 [==============================] - 6s 30ms/step - loss: 0.5599 - accuracy: 0.7723 - val_loss: 0.5454 - val_accuracy: 0.7884\n",
      "Epoch 3/100\n",
      "191/191 [==============================] - 6s 33ms/step - loss: 0.5172 - accuracy: 0.7945 - val_loss: 0.5188 - val_accuracy: 0.7963\n",
      "Epoch 4/100\n",
      "191/191 [==============================] - 6s 33ms/step - loss: 0.4898 - accuracy: 0.8038 - val_loss: 0.5017 - val_accuracy: 0.8016\n",
      "Epoch 5/100\n",
      "191/191 [==============================] - 7s 36ms/step - loss: 0.4700 - accuracy: 0.8096 - val_loss: 0.4899 - val_accuracy: 0.8035\n",
      "Epoch 6/100\n",
      "191/191 [==============================] - 7s 38ms/step - loss: 0.4549 - accuracy: 0.8158 - val_loss: 0.4813 - val_accuracy: 0.8042\n",
      "Epoch 7/100\n",
      "191/191 [==============================] - 8s 40ms/step - loss: 0.4430 - accuracy: 0.8173 - val_loss: 0.4748 - val_accuracy: 0.8029\n",
      "Epoch 8/100\n",
      "191/191 [==============================] - 7s 35ms/step - loss: 0.4329 - accuracy: 0.8215 - val_loss: 0.4691 - val_accuracy: 0.8042\n",
      "Epoch 9/100\n",
      "191/191 [==============================] - 7s 34ms/step - loss: 0.4246 - accuracy: 0.8230 - val_loss: 0.4657 - val_accuracy: 0.8068\n",
      "Epoch 10/100\n",
      "191/191 [==============================] - 7s 35ms/step - loss: 0.4175 - accuracy: 0.8261 - val_loss: 0.4626 - val_accuracy: 0.8088\n",
      "Epoch 11/100\n",
      "191/191 [==============================] - 7s 35ms/step - loss: 0.4112 - accuracy: 0.8266 - val_loss: 0.4602 - val_accuracy: 0.8081\n",
      "Epoch 12/100\n",
      "191/191 [==============================] - 7s 35ms/step - loss: 0.4058 - accuracy: 0.8286 - val_loss: 0.4582 - val_accuracy: 0.8101\n",
      "Epoch 13/100\n",
      "191/191 [==============================] - 7s 35ms/step - loss: 0.4009 - accuracy: 0.8311 - val_loss: 0.4569 - val_accuracy: 0.8095\n",
      "Epoch 14/100\n",
      "191/191 [==============================] - 7s 36ms/step - loss: 0.3964 - accuracy: 0.8317 - val_loss: 0.4560 - val_accuracy: 0.8081\n",
      "Epoch 15/100\n",
      "191/191 [==============================] - 6s 34ms/step - loss: 0.3925 - accuracy: 0.8339 - val_loss: 0.4553 - val_accuracy: 0.8062\n",
      "Epoch 16/100\n",
      "191/191 [==============================] - 7s 36ms/step - loss: 0.3890 - accuracy: 0.8340 - val_loss: 0.4544 - val_accuracy: 0.8062\n",
      "Epoch 17/100\n",
      "191/191 [==============================] - 7s 35ms/step - loss: 0.3858 - accuracy: 0.8352 - val_loss: 0.4542 - val_accuracy: 0.8055\n"
     ]
    }
   ],
   "source": [
    "m.fit(epochs=100)"
   ]
  },
  {
   "cell_type": "code",
   "execution_count": 167,
   "metadata": {},
   "outputs": [
    {
     "data": {
      "image/png": "[encoded data removed]",
      "text/plain": [
       "<Figure size 600x1000 with 2 Axes>"
      ]
     },
     "metadata": {},
     "output_type": "display_data"
    }
   ],
   "source": [
    "vm = ModelVisualization(m)\n",
    "vm.show_history()"
   ]
  },
  {
   "cell_type": "code",
   "execution_count": 168,
   "metadata": {},
   "outputs": [
    {
     "name": "stdout",
     "output_type": "stream",
     "text": [
      "Model: \"sequential_1\"\n",
      "_________________________________________________________________\n",
      " Layer (type)                Output Shape              Param #   \n",
      "=================================================================\n",
      " text_vectorization_3 (TextV  (None, 1000)             0         \n",
      " ectorization)                                                   \n",
      "                                                                 \n",
      " dense_1 (Dense)             (None, 2)                 2002      \n",
      "                                                                 \n",
      "=================================================================\n",
      "Total params: 2,002\n",
      "Trainable params: 2,002\n",
      "Non-trainable params: 0\n",
      "_________________________________________________________________\n"
     ]
    }
   ],
   "source": [
    "vm.summary()"
   ]
  },
  {
   "cell_type": "markdown",
   "metadata": {},
   "source": [
    "## Test\n",
    "\n",
    "Based on the training outcome, the binary model exhibits a higher validation accuracy and shows no significant signs of overfitting. Therefore, the binary model will be utilized for testing purposes. To enhance the clarity of the results, a softmax layer is incorporated into the model to provide more evident probabilities. The test images are sourced from the prearranged test directory. In order to facilitate recording and organization, a pandas dataframe is generated. This dataframe serves to present the results in a more transparent manner."
   ]
  },
  {
   "cell_type": "code",
   "execution_count": 169,
   "metadata": {},
   "outputs": [],
   "source": [
    "class Predictor:\n",
    "    def __init__(self, model: tf.keras.Model, test_df):\n",
    "        self.model = model\n",
    "        #self.model.add(tf.keras.layers.Softmax())\n",
    "        self.test_df = test_df\n",
    "        self.df = None\n",
    "        self.pred = self.predict()\n",
    "        self.pred_df = None\n",
    "        self.build_result_df()\n",
    "        \n",
    "        self.submit()\n",
    "\n",
    "        \n",
    "    def predict(self):\n",
    "        y_pred_prob = self.model.model.predict(np.array(self.test_df.text))\n",
    "\n",
    "        return tf.keras.activations.softmax(tf.convert_to_tensor(y_pred_prob))\n",
    "    \n",
    "    def build_result_df(self):\n",
    "        self.pred_df = pd.DataFrame(self.test_df['id'])\n",
    "        self.pred_df['target'] = pd.DataFrame(self.pred).apply(np.argmax, axis=1)\n",
    "  \n",
    "    def submit(self):\n",
    "        self.pred_df.to_csv('submission.csv',index=False)\n",
    "        "
   ]
  },
  {
   "cell_type": "code",
   "execution_count": 170,
   "metadata": {},
   "outputs": [],
   "source": [
    "class PredictorDisplay:\n",
    "    def __init__(self, owner):\n",
    "        self.owner = owner\n",
    "        \n",
    "    def dump(self):\n",
    "        print(\"Prediction possibilities:\")\n",
    "        print(self.owner.pred_df)\n",
    "        print(self.owner.pred_df.target.value_counts())\n",
    "        \n",
    "    def show_result(self):\n",
    "        labels = ['Fake', 'Real']\n",
    "        plt.pie(self.owner.pred_df['target'].value_counts(),autopct='%1.1f%%',labels=labels)\n",
    "        plt.show()\n"
   ]
  },
  {
   "cell_type": "code",
   "execution_count": 171,
   "metadata": {},
   "outputs": [
    {
     "name": "stdout",
     "output_type": "stream",
     "text": [
      "  8/102 [=>............................] - ETA: 1s"
     ]
    },
    {
     "name": "stderr",
     "output_type": "stream",
     "text": [
      "2023-03-04 01:05:23.556493: I tensorflow/core/grappler/optimizers/custom_graph_optimizer_registry.cc:114] Plugin optimizer for device_type GPU is enabled.\n"
     ]
    },
    {
     "name": "stdout",
     "output_type": "stream",
     "text": [
      "102/102 [==============================] - 2s 15ms/step\n"
     ]
    }
   ],
   "source": [
    "pred = Predictor(m, df.test_df)"
   ]
  },
  {
   "cell_type": "code",
   "execution_count": 172,
   "metadata": {},
   "outputs": [
    {
     "name": "stdout",
     "output_type": "stream",
     "text": [
      "Prediction possibilities:\n",
      "         id  target\n",
      "0         0       1\n",
      "1         2       1\n",
      "2         3       1\n",
      "3         9       0\n",
      "4        11       1\n",
      "...     ...     ...\n",
      "3258  10861       1\n",
      "3259  10865       1\n",
      "3260  10868       1\n",
      "3261  10874       1\n",
      "3262  10875       0\n",
      "\n",
      "[3263 rows x 2 columns]\n",
      "0    2055\n",
      "1    1208\n",
      "Name: target, dtype: int64\n"
     ]
    }
   ],
   "source": [
    "disp = PredictorDisplay(pred)\n",
    "disp.dump()"
   ]
  },
  {
   "cell_type": "code",
   "execution_count": 173,
   "metadata": {},
   "outputs": [
    {
     "data": {
      "image/png": "[encoded data removed]",
      "text/plain": [
       "<Figure size 640x480 with 1 Axes>"
      ]
     },
     "metadata": {},
     "output_type": "display_data"
    }
   ],
   "source": [
    "disp.show_result()"
   ]
  },
  {
   "cell_type": "code",
   "execution_count": 174,
   "metadata": {},
   "outputs": [
    {
     "data": {
      "image/png": "[encoded data removed]",
      "text/plain": [
       "<Figure size 640x480 with 1 Axes>"
      ]
     },
     "metadata": {},
     "output_type": "display_data"
    }
   ],
   "source": [
    "labels = ['Fake', 'Real']\n",
    "plt.pie(df.train_df['target'].value_counts(),autopct='%1.1f%%',labels=labels)\n",
    "plt.show() "
   ]
  },
  {
   "cell_type": "markdown",
   "metadata": {},
   "source": [
    "## Conclusion and Analysis\n",
    "Based on the statistics derived from the training data, the negative and positive percentages are 57% and 43%, respectively. Analyzing the predicted testing data, it reveals that the negative and positive percentages are 63% and 37%, respectively. Roughly estimating, there is a 6% disparity between the predicted distribution and the actual distribution, indicating an accuracy lower than 90% (1-6/60). Taking into account the presence of false positives and false negatives, the accuracy of the prediction is likely around 75% to 80%. To achieve better results, the following improvements can be implemented:\n",
    "\n",
    "* Explore different word vector algorithms: Experiment with various word vector algorithms to assess their impact on the model's performance and select the one that yields the best results.\n",
    "\n",
    "* Fine-tune the model using different hyperparameters: Conduct further experimentation with a broader range of hyperparameters, such as learning rate, batch size, regularization techniques, etc., to improve the model's performance and convergence.\n",
    "\n",
    "* Enhance the network architecture: Consider improving the existing network architecture or exploring more advanced architectures. Techniques like increasing network depth, width, or incorporating additional layers, such as residual connections or attention mechanisms, can potentially capture more intricate patterns and improve overall performance.\n",
    "\n",
    "Implementing these improvements can lead to improved prediction accuracy and better results in the task at hand."
   ]
  },
  {
   "cell_type": "code",
   "execution_count": null,
   "metadata": {},
   "outputs": [],
   "source": []
  }
 ],
 "metadata": {
  "colab": {
   "provenance": []
  },
  "gpuClass": "standard",
  "kernelspec": {
   "display_name": "Python 3 (ipykernel)",
   "language": "python",
   "name": "python3"
  },
  "language_info": {
   "codemirror_mode": {
    "name": "ipython",
    "version": 3
   },
   "file_extension": ".py",
   "mimetype": "text/x-python",
   "name": "python",
   "nbconvert_exporter": "python",
   "pygments_lexer": "ipython3",
   "version": "3.10.9"
  },
  "vscode": {
   "interpreter": {
    "hash": "b2b3490ab97e9e12756aa89c01d5382ca6cf08cdaa9c454d9749392520b38d26"
   }
  }
 },
 "nbformat": 4,
 "nbformat_minor": 1
}
